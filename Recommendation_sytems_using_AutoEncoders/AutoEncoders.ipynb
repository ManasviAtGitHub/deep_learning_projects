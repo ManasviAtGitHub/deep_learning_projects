{
 "cells": [
  {
   "cell_type": "markdown",
   "metadata": {
    "colab_type": "text",
    "id": "K4f4JG1gdKqj"
   },
   "source": [
    "#AutoEncoders"
   ]
  },
  {
   "cell_type": "markdown",
   "metadata": {
    "colab_type": "text",
    "id": "1jbiqOK7dLGG"
   },
   "source": [
    "##Downloading the dataset"
   ]
  },
  {
   "cell_type": "markdown",
   "metadata": {
    "colab_type": "text",
    "id": "XL5MEkLcfRD2"
   },
   "source": [
    "###ML-100K"
   ]
  },
  {
   "cell_type": "code",
   "execution_count": 0,
   "metadata": {
    "colab": {
     "base_uri": "https://localhost:8080/",
     "height": 646
    },
    "colab_type": "code",
    "id": "rjOPzue7FCXJ",
    "outputId": "b0f0b631-51bf-49e8-9ad6-947a0bd3d832"
   },
   "outputs": [
    {
     "name": "stdout",
     "output_type": "stream",
     "text": [
      "--2020-06-08 18:30:02--  http://files.grouplens.org/datasets/movielens/ml-100k.zip\n",
      "Resolving files.grouplens.org (files.grouplens.org)... 128.101.65.152\n",
      "Connecting to files.grouplens.org (files.grouplens.org)|128.101.65.152|:80... connected.\n",
      "HTTP request sent, awaiting response... 200 OK\n",
      "Length: 4924029 (4.7M) [application/zip]\n",
      "Saving to: ‘ml-100k.zip’\n",
      "\n",
      "ml-100k.zip         100%[===================>]   4.70M  3.56MB/s    in 1.3s    \n",
      "\n",
      "2020-06-08 18:30:04 (3.56 MB/s) - ‘ml-100k.zip’ saved [4924029/4924029]\n",
      "\n",
      "Archive:  ml-100k.zip\n",
      "   creating: ml-100k/\n",
      "  inflating: ml-100k/allbut.pl       \n",
      "  inflating: ml-100k/mku.sh          \n",
      "  inflating: ml-100k/README          \n",
      "  inflating: ml-100k/u.data          \n",
      "  inflating: ml-100k/u.genre         \n",
      "  inflating: ml-100k/u.info          \n",
      "  inflating: ml-100k/u.item          \n",
      "  inflating: ml-100k/u.occupation    \n",
      "  inflating: ml-100k/u.user          \n",
      "  inflating: ml-100k/u1.base         \n",
      "  inflating: ml-100k/u1.test         \n",
      "  inflating: ml-100k/u2.base         \n",
      "  inflating: ml-100k/u2.test         \n",
      "  inflating: ml-100k/u3.base         \n",
      "  inflating: ml-100k/u3.test         \n",
      "  inflating: ml-100k/u4.base         \n",
      "  inflating: ml-100k/u4.test         \n",
      "  inflating: ml-100k/u5.base         \n",
      "  inflating: ml-100k/u5.test         \n",
      "  inflating: ml-100k/ua.base         \n",
      "  inflating: ml-100k/ua.test         \n",
      "  inflating: ml-100k/ub.base         \n",
      "  inflating: ml-100k/ub.test         \n",
      "ml-100k  ml-100k.zip  sample_data\n"
     ]
    }
   ],
   "source": [
    "!wget \"http://files.grouplens.org/datasets/movielens/ml-100k.zip\"\n",
    "!unzip ml-100k.zip\n",
    "!ls"
   ]
  },
  {
   "cell_type": "markdown",
   "metadata": {
    "colab_type": "text",
    "id": "9Xis6ldDfTs6"
   },
   "source": [
    "###ML-1M"
   ]
  },
  {
   "cell_type": "code",
   "execution_count": 0,
   "metadata": {
    "colab": {
     "base_uri": "https://localhost:8080/",
     "height": 323
    },
    "colab_type": "code",
    "id": "LOly1yfAfTjd",
    "outputId": "519b7fb3-4f15-4a0b-91d5-8221ee486409"
   },
   "outputs": [
    {
     "name": "stdout",
     "output_type": "stream",
     "text": [
      "--2020-06-08 18:30:18--  http://files.grouplens.org/datasets/movielens/ml-1m.zip\n",
      "Resolving files.grouplens.org (files.grouplens.org)... 128.101.65.152\n",
      "Connecting to files.grouplens.org (files.grouplens.org)|128.101.65.152|:80... connected.\n",
      "HTTP request sent, awaiting response... 200 OK\n",
      "Length: 5917549 (5.6M) [application/zip]\n",
      "Saving to: ‘ml-1m.zip’\n",
      "\n",
      "ml-1m.zip           100%[===================>]   5.64M  4.18MB/s    in 1.3s    \n",
      "\n",
      "2020-06-08 18:30:20 (4.18 MB/s) - ‘ml-1m.zip’ saved [5917549/5917549]\n",
      "\n",
      "Archive:  ml-1m.zip\n",
      "   creating: ml-1m/\n",
      "  inflating: ml-1m/movies.dat        \n",
      "  inflating: ml-1m/ratings.dat       \n",
      "  inflating: ml-1m/README            \n",
      "  inflating: ml-1m/users.dat         \n",
      "ml-100k  ml-100k.zip  ml-1m  ml-1m.zip\tsample_data\n"
     ]
    }
   ],
   "source": [
    "!wget \"http://files.grouplens.org/datasets/movielens/ml-1m.zip\"\n",
    "!unzip ml-1m.zip\n",
    "!ls"
   ]
  },
  {
   "cell_type": "markdown",
   "metadata": {
    "colab_type": "text",
    "id": "EOBJ8UCXdY0g"
   },
   "source": [
    "##Importing the libraries"
   ]
  },
  {
   "cell_type": "code",
   "execution_count": 1,
   "metadata": {
    "colab": {},
    "colab_type": "code",
    "id": "_LvGeU1CeCtg"
   },
   "outputs": [],
   "source": [
    "import numpy as np\n",
    "import pandas as pd\n",
    "import torch\n",
    "import torch.nn as nn\n",
    "import torch.nn.parallel\n",
    "import torch.optim as optim\n",
    "import torch.utils.data\n",
    "from torch.autograd import Variable"
   ]
  },
  {
   "cell_type": "markdown",
   "metadata": {
    "colab_type": "text",
    "id": "pM04FyMudkoK"
   },
   "source": [
    "## Importing the dataset\n"
   ]
  },
  {
   "cell_type": "code",
   "execution_count": 2,
   "metadata": {
    "colab": {},
    "colab_type": "code",
    "id": "UJw2p3-Cewo4"
   },
   "outputs": [],
   "source": [
    "# We won't be using this dataset.\n",
    "movies = pd.read_csv('ml-1m/movies.dat', sep = '::', header = None, engine = 'python', encoding = 'latin-1')\n",
    "users = pd.read_csv('ml-1m/users.dat', sep = '::', header = None, engine = 'python', encoding = 'latin-1')\n",
    "ratings = pd.read_csv('ml-1m/ratings.dat', sep = '::', header = None, engine = 'python', encoding = 'latin-1')"
   ]
  },
  {
   "cell_type": "markdown",
   "metadata": {
    "colab_type": "text",
    "id": "yTIbE2tkdkwP"
   },
   "source": [
    "## Preparing the training set and the test set\n"
   ]
  },
  {
   "cell_type": "code",
   "execution_count": 3,
   "metadata": {
    "colab": {},
    "colab_type": "code",
    "id": "2usLKJBEgPE2"
   },
   "outputs": [],
   "source": [
    "training_set = pd.read_csv('ml-100k/u1.base', delimiter = '\\t')\n",
    "training_set = np.array(training_set, dtype = 'int')\n",
    "test_set = pd.read_csv('ml-100k/u1.test', delimiter = '\\t')\n",
    "test_set = np.array(test_set, dtype = 'int')"
   ]
  },
  {
   "cell_type": "markdown",
   "metadata": {
    "colab_type": "text",
    "id": "zCf8HjSydk4s"
   },
   "source": [
    "## Getting the number of users and movies\n"
   ]
  },
  {
   "cell_type": "code",
   "execution_count": 4,
   "metadata": {
    "colab": {},
    "colab_type": "code",
    "id": "gPaGZqdniC5m"
   },
   "outputs": [],
   "source": [
    "nb_users = int(max(max(training_set[:, 0], ), max(test_set[:, 0])))\n",
    "nb_movies = int(max(max(training_set[:, 1], ), max(test_set[:, 1])))"
   ]
  },
  {
   "cell_type": "markdown",
   "metadata": {
    "colab_type": "text",
    "id": "J-w4-hVidlAm"
   },
   "source": [
    "## Converting the data into an array with users in lines and movies in columns\n"
   ]
  },
  {
   "cell_type": "code",
   "execution_count": 5,
   "metadata": {
    "colab": {},
    "colab_type": "code",
    "id": "-wASs2YFiDaa"
   },
   "outputs": [],
   "source": [
    "def convert(data):\n",
    "  new_data = []\n",
    "  for id_users in range(1, nb_users + 1):\n",
    "    id_movies = data[:, 1] [data[:, 0] == id_users]\n",
    "    id_ratings = data[:, 2] [data[:, 0] == id_users]\n",
    "    ratings = np.zeros(nb_movies)\n",
    "    ratings[id_movies - 1] = id_ratings\n",
    "    new_data.append(list(ratings))\n",
    "  return new_data\n",
    "training_set = convert(training_set)\n",
    "test_set = convert(test_set)"
   ]
  },
  {
   "cell_type": "markdown",
   "metadata": {
    "colab_type": "text",
    "id": "AMmhuUpldlHo"
   },
   "source": [
    "## Converting the data into Torch tensors\n"
   ]
  },
  {
   "cell_type": "code",
   "execution_count": 6,
   "metadata": {
    "colab": {},
    "colab_type": "code",
    "id": "TwD-KD8yiEEw"
   },
   "outputs": [],
   "source": [
    "training_set = torch.FloatTensor(training_set)\n",
    "test_set = torch.FloatTensor(test_set)"
   ]
  },
  {
   "cell_type": "markdown",
   "metadata": {
    "colab_type": "text",
    "id": "6kkL8NkkdlZj"
   },
   "source": [
    "## Creating the architecture of the Neural Network\n"
   ]
  },
  {
   "cell_type": "code",
   "execution_count": 17,
   "metadata": {},
   "outputs": [],
   "source": [
    "# Stacked Auto Encoders\n",
    "\n",
    "class StackedAutoEncoders(nn.Module):\n",
    "    \n",
    "    def __init__(self,):\n",
    "        super(StackedAutoEncoders, self).__init__()\n",
    "        self.fc1 = nn.Linear(nb_movies, 20)\n",
    "        self.fc2 = nn.Linear(20, 10)\n",
    "        self.fc3 = nn.Linear(10,20)\n",
    "        self.fc4 = nn.Linear(20, nb_movies)\n",
    "        self.activation = nn.Sigmoid()\n",
    "    \n",
    "    def forward(self, x):\n",
    "        x = self.activation(self.fc1(x))\n",
    "        x = self.activation(self.fc2(x))\n",
    "        x = self.activation(self.fc3(x))\n",
    "        x = self.fc4(x)\n",
    "        return x\n",
    "    \n",
    "        \n",
    "    "
   ]
  },
  {
   "cell_type": "code",
   "execution_count": 18,
   "metadata": {},
   "outputs": [],
   "source": [
    "sae = StackedAutoEncoders()"
   ]
  },
  {
   "cell_type": "code",
   "execution_count": 19,
   "metadata": {},
   "outputs": [],
   "source": [
    "criterion = nn.MSELoss()\n",
    "optimizer = optim.RMSprop(sae.parameters(), lr = 0.01, weight_decay = 0.5)"
   ]
  },
  {
   "cell_type": "markdown",
   "metadata": {
    "colab_type": "text",
    "id": "7gy59alAdloL"
   },
   "source": [
    "## Training the SAE\n"
   ]
  },
  {
   "cell_type": "code",
   "execution_count": 21,
   "metadata": {},
   "outputs": [
    {
     "name": "stdout",
     "output_type": "stream",
     "text": [
      "epoch: 1 loss: 1.764691948890686\n",
      "epoch: 2 loss: 1.096481204032898\n",
      "epoch: 3 loss: 1.0534509420394897\n",
      "epoch: 4 loss: 1.0382879972457886\n",
      "epoch: 5 loss: 1.0308033227920532\n",
      "epoch: 6 loss: 1.0268133878707886\n",
      "epoch: 7 loss: 1.0238819122314453\n",
      "epoch: 8 loss: 1.021814227104187\n",
      "epoch: 9 loss: 1.0205382108688354\n",
      "epoch: 10 loss: 1.0195837020874023\n",
      "epoch: 11 loss: 1.0186587572097778\n",
      "epoch: 12 loss: 1.0183454751968384\n",
      "epoch: 13 loss: 1.017608404159546\n",
      "epoch: 14 loss: 1.0175540447235107\n",
      "epoch: 15 loss: 1.0169026851654053\n",
      "epoch: 16 loss: 1.016904354095459\n",
      "epoch: 17 loss: 1.0167776346206665\n",
      "epoch: 18 loss: 1.0164426565170288\n",
      "epoch: 19 loss: 1.0162432193756104\n",
      "epoch: 20 loss: 1.0163679122924805\n",
      "epoch: 21 loss: 1.016167402267456\n",
      "epoch: 22 loss: 1.0158731937408447\n",
      "epoch: 23 loss: 1.015805959701538\n",
      "epoch: 24 loss: 1.015723705291748\n",
      "epoch: 25 loss: 1.015731930732727\n",
      "epoch: 26 loss: 1.015626311302185\n",
      "epoch: 27 loss: 1.0153834819793701\n",
      "epoch: 28 loss: 1.0150281190872192\n",
      "epoch: 29 loss: 1.0127474069595337\n",
      "epoch: 30 loss: 1.0114141702651978\n",
      "epoch: 31 loss: 1.0110619068145752\n",
      "epoch: 32 loss: 1.0080854892730713\n",
      "epoch: 33 loss: 1.0081195831298828\n",
      "epoch: 34 loss: 1.0038784742355347\n",
      "epoch: 35 loss: 1.0023976564407349\n",
      "epoch: 36 loss: 1.0002790689468384\n",
      "epoch: 37 loss: 0.9982444643974304\n",
      "epoch: 38 loss: 0.996023952960968\n",
      "epoch: 39 loss: 0.9939635992050171\n",
      "epoch: 40 loss: 0.9918128848075867\n",
      "epoch: 41 loss: 0.9933130145072937\n",
      "epoch: 42 loss: 0.991038978099823\n",
      "epoch: 43 loss: 0.9905084371566772\n",
      "epoch: 44 loss: 0.9864657521247864\n",
      "epoch: 45 loss: 0.9852545857429504\n",
      "epoch: 46 loss: 0.9819950461387634\n",
      "epoch: 47 loss: 0.9818354845046997\n",
      "epoch: 48 loss: 0.9792806506156921\n",
      "epoch: 49 loss: 0.9846701622009277\n",
      "epoch: 50 loss: 0.9818205237388611\n",
      "epoch: 51 loss: 0.9823079705238342\n",
      "epoch: 52 loss: 0.9792807698249817\n",
      "epoch: 53 loss: 0.9752284288406372\n",
      "epoch: 54 loss: 0.9776890277862549\n",
      "epoch: 55 loss: 0.9874618649482727\n",
      "epoch: 56 loss: 0.9803479313850403\n",
      "epoch: 57 loss: 0.9773544073104858\n",
      "epoch: 58 loss: 0.9755994081497192\n",
      "epoch: 59 loss: 0.9760850667953491\n",
      "epoch: 60 loss: 0.9777291417121887\n",
      "epoch: 61 loss: 0.9765302538871765\n",
      "epoch: 62 loss: 0.972201406955719\n",
      "epoch: 63 loss: 0.9749261736869812\n",
      "epoch: 64 loss: 0.9737952947616577\n",
      "epoch: 65 loss: 0.9729936718940735\n",
      "epoch: 66 loss: 0.969044029712677\n",
      "epoch: 67 loss: 0.9697650074958801\n",
      "epoch: 68 loss: 0.9678642749786377\n",
      "epoch: 69 loss: 0.9657241106033325\n",
      "epoch: 70 loss: 0.9675114154815674\n",
      "epoch: 71 loss: 0.9623214602470398\n",
      "epoch: 72 loss: 0.9605647921562195\n",
      "epoch: 73 loss: 0.9621464014053345\n",
      "epoch: 74 loss: 0.962465226650238\n",
      "epoch: 75 loss: 0.9638221859931946\n",
      "epoch: 76 loss: 0.9630882143974304\n",
      "epoch: 77 loss: 0.9641113877296448\n",
      "epoch: 78 loss: 0.9625275135040283\n",
      "epoch: 79 loss: 0.9624316692352295\n",
      "epoch: 80 loss: 0.9602014422416687\n",
      "epoch: 81 loss: 0.956829845905304\n",
      "epoch: 82 loss: 0.9551022052764893\n",
      "epoch: 83 loss: 0.9546453356742859\n",
      "epoch: 84 loss: 0.9551865458488464\n",
      "epoch: 85 loss: 0.9626897573471069\n",
      "epoch: 86 loss: 0.9642728567123413\n",
      "epoch: 87 loss: 0.9613789319992065\n",
      "epoch: 88 loss: 0.9598499536514282\n",
      "epoch: 89 loss: 0.9577798247337341\n",
      "epoch: 90 loss: 0.9536101818084717\n",
      "epoch: 91 loss: 0.9568877816200256\n",
      "epoch: 92 loss: 0.950292706489563\n",
      "epoch: 93 loss: 0.9526122808456421\n",
      "epoch: 94 loss: 0.9481562972068787\n",
      "epoch: 95 loss: 0.9485489726066589\n",
      "epoch: 96 loss: 0.9460152983665466\n",
      "epoch: 97 loss: 0.9459879994392395\n",
      "epoch: 98 loss: 0.9445779323577881\n",
      "epoch: 99 loss: 0.9452718496322632\n",
      "epoch: 100 loss: 0.9429393410682678\n",
      "epoch: 101 loss: 0.9433214664459229\n",
      "epoch: 102 loss: 0.9440985918045044\n",
      "epoch: 103 loss: 0.9458273649215698\n",
      "epoch: 104 loss: 0.9452927112579346\n",
      "epoch: 105 loss: 0.942711353302002\n",
      "epoch: 106 loss: 0.9422692656517029\n",
      "epoch: 107 loss: 0.9415862560272217\n",
      "epoch: 108 loss: 0.9385233521461487\n",
      "epoch: 109 loss: 0.9383455514907837\n",
      "epoch: 110 loss: 0.9373442530632019\n",
      "epoch: 111 loss: 0.9387839436531067\n",
      "epoch: 112 loss: 0.9370989203453064\n",
      "epoch: 113 loss: 0.9378344416618347\n",
      "epoch: 114 loss: 0.9359245300292969\n",
      "epoch: 115 loss: 0.939811110496521\n",
      "epoch: 116 loss: 0.9383841156959534\n",
      "epoch: 117 loss: 0.9348302483558655\n",
      "epoch: 118 loss: 0.9357637763023376\n",
      "epoch: 119 loss: 0.9357792735099792\n",
      "epoch: 120 loss: 0.9331263303756714\n",
      "epoch: 121 loss: 0.9335082769393921\n",
      "epoch: 122 loss: 0.9329177141189575\n",
      "epoch: 123 loss: 0.9339651465415955\n",
      "epoch: 124 loss: 0.9313969016075134\n",
      "epoch: 125 loss: 0.9328612089157104\n",
      "epoch: 126 loss: 0.9303604960441589\n",
      "epoch: 127 loss: 0.9316604137420654\n",
      "epoch: 128 loss: 0.9302226901054382\n",
      "epoch: 129 loss: 0.9309667944908142\n",
      "epoch: 130 loss: 0.9297581315040588\n",
      "epoch: 131 loss: 0.9305756092071533\n",
      "epoch: 132 loss: 0.929104208946228\n",
      "epoch: 133 loss: 0.9296985268592834\n",
      "epoch: 134 loss: 0.9277570247650146\n",
      "epoch: 135 loss: 0.9286567568778992\n",
      "epoch: 136 loss: 0.9272356629371643\n",
      "epoch: 137 loss: 0.9285084009170532\n",
      "epoch: 138 loss: 0.9277552962303162\n",
      "epoch: 139 loss: 0.9277130365371704\n",
      "epoch: 140 loss: 0.9262511730194092\n",
      "epoch: 141 loss: 0.9260429739952087\n",
      "epoch: 142 loss: 0.9250192046165466\n",
      "epoch: 143 loss: 0.9265024065971375\n",
      "epoch: 144 loss: 0.9255217909812927\n",
      "epoch: 145 loss: 0.9259704947471619\n",
      "epoch: 146 loss: 0.9253944158554077\n",
      "epoch: 147 loss: 0.925975501537323\n",
      "epoch: 148 loss: 0.925078809261322\n",
      "epoch: 149 loss: 0.9251595735549927\n",
      "epoch: 150 loss: 0.9240878820419312\n",
      "epoch: 151 loss: 0.9249334335327148\n",
      "epoch: 152 loss: 0.9240169525146484\n",
      "epoch: 153 loss: 0.924079179763794\n",
      "epoch: 154 loss: 0.9236761331558228\n",
      "epoch: 155 loss: 0.9238945841789246\n",
      "epoch: 156 loss: 0.9226622581481934\n",
      "epoch: 157 loss: 0.9229665398597717\n",
      "epoch: 158 loss: 0.9234083890914917\n",
      "epoch: 159 loss: 0.9237197041511536\n",
      "epoch: 160 loss: 0.9240913987159729\n",
      "epoch: 161 loss: 0.9235743880271912\n",
      "epoch: 162 loss: 0.9225529432296753\n",
      "epoch: 163 loss: 0.9229642748832703\n",
      "epoch: 164 loss: 0.922410249710083\n",
      "epoch: 165 loss: 0.9223920702934265\n",
      "epoch: 166 loss: 0.92140793800354\n",
      "epoch: 167 loss: 0.921848475933075\n",
      "epoch: 168 loss: 0.9211015701293945\n",
      "epoch: 169 loss: 0.92142653465271\n",
      "epoch: 170 loss: 0.9203850030899048\n",
      "epoch: 171 loss: 0.9205719232559204\n",
      "epoch: 172 loss: 0.9202904105186462\n",
      "epoch: 173 loss: 0.9211594462394714\n",
      "epoch: 174 loss: 0.9204626083374023\n",
      "epoch: 175 loss: 0.9211030602455139\n",
      "epoch: 176 loss: 0.9198490977287292\n",
      "epoch: 177 loss: 0.9203768372535706\n",
      "epoch: 178 loss: 0.9196169376373291\n",
      "epoch: 179 loss: 0.9201474189758301\n",
      "epoch: 180 loss: 0.9190534949302673\n",
      "epoch: 181 loss: 0.9196800589561462\n",
      "epoch: 182 loss: 0.9190251231193542\n",
      "epoch: 183 loss: 0.9198113083839417\n",
      "epoch: 184 loss: 0.9186047315597534\n",
      "epoch: 185 loss: 0.9193875789642334\n",
      "epoch: 186 loss: 0.9188784956932068\n",
      "epoch: 187 loss: 0.9192997217178345\n",
      "epoch: 188 loss: 0.9182097911834717\n",
      "epoch: 189 loss: 0.9190057516098022\n",
      "epoch: 190 loss: 0.9182085394859314\n",
      "epoch: 191 loss: 0.9191862940788269\n",
      "epoch: 192 loss: 0.917767345905304\n",
      "epoch: 193 loss: 0.918759822845459\n",
      "epoch: 194 loss: 0.9181931018829346\n",
      "epoch: 195 loss: 0.9184328317642212\n",
      "epoch: 196 loss: 0.9176356792449951\n",
      "epoch: 197 loss: 0.9183427691459656\n",
      "epoch: 198 loss: 0.9176602363586426\n",
      "epoch: 199 loss: 0.9177463054656982\n",
      "epoch: 200 loss: 0.9169355630874634\n"
     ]
    }
   ],
   "source": [
    "nb_epoch = 200\n",
    "for epoch in range(1, nb_epoch+1):\n",
    "    train_loss = 0\n",
    "    s = 0.\n",
    "    \n",
    "    for id_user in range(nb_users):\n",
    "        \n",
    "        input = Variable(training_set[id_user]).unsqueeze(0)\n",
    "        target = input.clone()\n",
    "        if torch.sum((target.data > 0) > 0):\n",
    "            output = sae(input)\n",
    "            target.require_grad = False\n",
    "            output[target == 0] = 0\n",
    "            loss = criterion(output, target)\n",
    "            mean_corrector = nb_movies/float(torch.sum(target.data>0) + 1e-10)\n",
    "            loss.backward()\n",
    "            train_loss+= np.sqrt (loss.data * mean_corrector) #error\n",
    "            s += 1.\n",
    "            optimizer.step()\n",
    "    \n",
    "    print(f\"epoch: {epoch} loss: {train_loss/s}\")\n",
    "        \n",
    "        \n",
    "        "
   ]
  },
  {
   "cell_type": "markdown",
   "metadata": {
    "colab_type": "text",
    "id": "Bak5uc8gd-gX"
   },
   "source": [
    "## Testing the SAE\n"
   ]
  },
  {
   "cell_type": "code",
   "execution_count": 23,
   "metadata": {},
   "outputs": [
    {
     "name": "stdout",
     "output_type": "stream",
     "text": [
      "test loss: 0.9548585414886475\n"
     ]
    }
   ],
   "source": [
    "test_loss = 0\n",
    "s = 0.\n",
    "\n",
    "for id_user in range(nb_users): \n",
    "    input = Variable(training_set[id_user]).unsqueeze(0)\n",
    "    target = Variable(test_set[id_user]).unsqueeze(0)\n",
    "    if torch.sum((target.data > 0) > 0):\n",
    "        output = sae(input)\n",
    "        target.require_grad = False\n",
    "        output[target == 0] = 0\n",
    "        loss = criterion(output, target)\n",
    "        mean_corrector = nb_movies/float(torch.sum(target.data>0) + 1e-10)\n",
    "        test_loss+= np.sqrt (loss.data * mean_corrector) #error\n",
    "        s += 1.\n",
    "print(f\"test loss: {test_loss/s}\")"
   ]
  },
  {
   "cell_type": "code",
   "execution_count": null,
   "metadata": {},
   "outputs": [],
   "source": []
  }
 ],
 "metadata": {
  "accelerator": "GPU",
  "colab": {
   "collapsed_sections": [],
   "name": "AutoEncoders.ipynb",
   "provenance": [],
   "toc_visible": true
  },
  "kernelspec": {
   "display_name": "Python 3 (ipykernel)",
   "language": "python",
   "name": "python3"
  },
  "language_info": {
   "codemirror_mode": {
    "name": "ipython",
    "version": 3
   },
   "file_extension": ".py",
   "mimetype": "text/x-python",
   "name": "python",
   "nbconvert_exporter": "python",
   "pygments_lexer": "ipython3",
   "version": "3.9.12"
  }
 },
 "nbformat": 4,
 "nbformat_minor": 1
}
